{
 "cells": [
  {
   "cell_type": "code",
   "execution_count": null,
   "metadata": {},
   "outputs": [],
   "source": [
    "%pip install llama_index\n",
    "%pip install docx2txt"
   ]
  },
  {
   "cell_type": "code",
   "execution_count": 2,
   "metadata": {},
   "outputs": [],
   "source": [
    "import os\n",
    "import config\n",
    "\n",
    "os.environ['OPENAI_API_KEY'] = config.API_Key"
   ]
  },
  {
   "cell_type": "code",
   "execution_count": 3,
   "metadata": {},
   "outputs": [],
   "source": [
    "from llama_index import SimpleDirectoryReader\n",
    "\n",
    "documents = SimpleDirectoryReader('C:\\\\Users\\\\20112653\\\\Downloads\\\\SAAIRPaper2023\\\\Llama\\\\Data').load_data()\n"
   ]
  },
  {
   "cell_type": "code",
   "execution_count": 4,
   "metadata": {},
   "outputs": [],
   "source": [
    "from llama_index.node_parser import SimpleNodeParser\n",
    "\n",
    "parser = SimpleNodeParser.from_defaults()\n",
    "\n",
    "nodes = parser.get_nodes_from_documents(documents)"
   ]
  },
  {
   "cell_type": "code",
   "execution_count": 5,
   "metadata": {},
   "outputs": [],
   "source": [
    "from llama_index import GPTVectorStoreIndex\n",
    "\n",
    "index = GPTVectorStoreIndex(nodes)"
   ]
  },
  {
   "cell_type": "code",
   "execution_count": 6,
   "metadata": {},
   "outputs": [
    {
     "name": "stdout",
     "output_type": "stream",
     "text": [
      "The Faculty of Economics at Viljoen University offers a range of flagship programmes that are designed to equip students with the knowledge and skills needed to excel in the dynamic field of economics. Our programmes are carefully crafted to align with industry demands and the changing global landscape. With a focus on experiential learning and practical application, our flagship programmes provide students with the opportunity to engage with real-world economic challenges and develop innovative solutions. Our dedicated and experienced faculty members are committed to providing a supportive and stimulating learning environment, ensuring that students receive the highest quality education. Whether you are interested in finance, business economics, or international trade, our flagship programmes will prepare you for a successful career in the field of economics. Join us at the Faculty of Economics and embark on a transformative educational journey.\n"
     ]
    }
   ],
   "source": [
    "query_engine = index.as_query_engine()\n",
    "response = query_engine.query(\"You are a staff member of the Viljoen University's Faculty of Economics. Write a short paragraph no more than 150 words promoting the faculty's flagship programmes.\")\n",
    "print(response)"
   ]
  },
  {
   "cell_type": "code",
   "execution_count": 20,
   "metadata": {},
   "outputs": [
    {
     "name": "stdout",
     "output_type": "stream",
     "text": [
      "The Faculty of Engineering can collaborate with the Faculty of Economics on their flagship programmes in the fields of Sustainable Development and Technology Innovation. By combining the expertise of both faculties, they can develop interdisciplinary courses and projects that address the challenges of sustainable development and leverage technology for economic growth. This collaboration can enhance the curriculum and provide students with a comprehensive understanding of the economic and technological aspects of sustainable development.\n"
     ]
    }
   ],
   "source": [
    "query_engine = index.as_query_engine()\n",
    "response = query_engine.query(\"You are an expert in curriculum design an development in higher education. Propose two fields where the Faculty of Engineering can collaborate on the Faculty of Economics' flagship programmes.\")\n",
    "print(response)"
   ]
  },
  {
   "cell_type": "code",
   "execution_count": 21,
   "metadata": {},
   "outputs": [
    {
     "name": "stdout",
     "output_type": "stream",
     "text": [
      "The Faculty of Economics has several flagship programmes, but the one that is most suited to the previous answer is the B Com Risk Management programme.\n"
     ]
    }
   ],
   "source": [
    "query_engine = index.as_query_engine()\n",
    "response = query_engine.query(\"Can you give the Faculty of Economics flagship programme that is most suited to your previous answer?\")\n",
    "print(response)"
   ]
  }
 ],
 "metadata": {
  "kernelspec": {
   "display_name": "Python 3",
   "language": "python",
   "name": "python3"
  },
  "language_info": {
   "codemirror_mode": {
    "name": "ipython",
    "version": 3
   },
   "file_extension": ".py",
   "mimetype": "text/x-python",
   "name": "python",
   "nbconvert_exporter": "python",
   "pygments_lexer": "ipython3",
   "version": "3.11.6"
  },
  "orig_nbformat": 4
 },
 "nbformat": 4,
 "nbformat_minor": 2
}
